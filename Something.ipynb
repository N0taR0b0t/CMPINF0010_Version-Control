{
 "cells": [
  {
   "cell_type": "code",
   "execution_count": 8,
   "metadata": {},
   "outputs": [
    {
     "name": "stdout",
     "output_type": "stream",
     "text": [
      "You are Matias.\n",
      "Given your birth year of 2003 and an average life expectancy of 77, you should live until 2080.\n"
     ]
    }
   ],
   "source": [
    "import datetime\n",
    "\n",
    "today = datetime.date.today()\n",
    "year = today.year\n",
    "life_expect=77\n",
    "\n",
    "name = input(\"Hi, what is your name?\")\n",
    "age = input(\"Hello \" + name + \"! What is your age?\")\n",
    "birth_year = int(year)-int(age)\n",
    "end_year=life_expect+year-int(age)\n",
    "print(\"You are \" + name + \".\\nGiven your birth year of \" + str(birth_year) + \" and an average life expectancy of \" + str(life_expect) + \", you should live until \" + str(end_year) + \".\")"
   ]
  },
  {
   "cell_type": "markdown",
   "metadata": {},
   "source": [
    "The above code takes user name and age as input, assumes the average US life expectnacy to be 77, and tells the user what year they should (on average) live until"
   ]
  }
 ],
 "metadata": {
  "kernelspec": {
   "display_name": "Python 3",
   "language": "python",
   "name": "python3"
  },
  "language_info": {
   "codemirror_mode": {
    "name": "ipython",
    "version": 3
   },
   "file_extension": ".py",
   "mimetype": "text/x-python",
   "name": "python",
   "nbconvert_exporter": "python",
   "pygments_lexer": "ipython3",
   "version": "3.11.5"
  }
 },
 "nbformat": 4,
 "nbformat_minor": 4
}
